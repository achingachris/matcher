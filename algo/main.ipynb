{
 "cells": [
  {
   "cell_type": "code",
   "execution_count": 97,
   "metadata": {},
   "outputs": [
    {
     "name": "stderr",
     "output_type": "stream",
     "text": [
      "INFO: Libraries imported successfully\n"
     ]
    }
   ],
   "source": [
    "# Importing the necesary libraries\n",
    "\n",
    "import pandas as pd\n",
    "import googlemaps\n",
    "from itertools import product\n",
    "import os\n",
    "import json\n",
    "from dotenv import load_dotenv\n",
    "from sklearn.preprocessing import MinMaxScaler\n",
    "import logging\n",
    "\n",
    "# Setting up logging\n",
    "logging.basicConfig(level=logging.INFO, format='%(levelname)s: %(message)s')\n",
    "\n",
    "logging.info(\"Libraries imported successfully\")"
   ]
  },
  {
   "cell_type": "code",
   "execution_count": 98,
   "metadata": {},
   "outputs": [
    {
     "name": "stderr",
     "output_type": "stream",
     "text": [
      "INFO: API queries_quota: 60\n",
      "INFO: Initialized Google Maps\n"
     ]
    }
   ],
   "source": [
    "# Load environment variables\n",
    "load_dotenv('../.env')\n",
    "gmaps_api_key = os.getenv('GMAPS_API_KEY')\n",
    "\n",
    "if not gmaps_api_key:\n",
    "    logging.error(\"Google Maps API key not found. Please set it in the .env file.\")\n",
    "    raise ValueError(\"Google Maps API key not found\")\n",
    "\n",
    "# Initialize Google Maps client\n",
    "gmaps = googlemaps.Client(key=gmaps_api_key)\n",
    "logging.info(\"Initialized Google Maps\")"
   ]
  },
  {
   "cell_type": "code",
   "execution_count": 99,
   "metadata": {},
   "outputs": [
    {
     "name": "stderr",
     "output_type": "stream",
     "text": [
      "INFO: Files loaded successfully\n",
      "INFO: Columns in mentee.csv:\n",
      "Index(['Timestamp', 'First Name', 'Last Name', 'Phone Number', 'Email',\n",
      "       'Year of Birth', 'Gender', 'Are you a person with Disability?',\n",
      "       'County of Residence',\n",
      "       'Sub County of Residence (Sub Counties in Mombasa)',\n",
      "       'Ward of Residence', 'Highest level of education completed',\n",
      "       'Are you employed', 'Are you running a business',\n",
      "       'What's your area of interest?',\n",
      "       'If you selected other, please elaborate (If not, respond with N/A)',\n",
      "       'Who referred you? (Your Case Manager/Mentor)',\n",
      "       'What are your Strengths', 'Mode of Mentorship',\n",
      "       'Preferred Gender of your mentor', 'What are your weaknesses',\n",
      "       'What are your career Goals',\n",
      "       'What skills would you like to be mentored?',\n",
      "       'What are your financial goals', 'Upload your resume if available'],\n",
      "      dtype='object')\n",
      "INFO: Columns in mentor.csv:\n",
      "Index(['Timestamp', 'First Name', 'Last Name', 'Gender', 'Year of Birth',\n",
      "       'Are you a person with disability', 'Email Address', 'Phone Number',\n",
      "       'What is your nationality?', 'Residence County', 'Residence Sub-County',\n",
      "       'Residence Ward', 'Please list you core values',\n",
      "       'Your free time activities',\n",
      "       'What are some of the personal challenges you go through',\n",
      "       'What are your strengths', 'What are your weaknesses',\n",
      "       'Preferred mode of mentorship ', 'Your religion', 'Cultural Influences',\n",
      "       'Mentee Demographics Preference', 'Latest educational qualification',\n",
      "       'Certifications', 'Current Job Title', 'Company',\n",
      "       'Your area of expertise', 'What are your career goals',\n",
      "       'What skills would you like to mentor', 'What are your financial goals',\n",
      "       'Upload your resume if available', 'LinkedIn URL',\n",
      "       'X (Formerly Twitter URL)'],\n",
      "      dtype='object')\n"
     ]
    }
   ],
   "source": [
    "# File paths\n",
    "MENTOR_DATA = './data/mentor.csv'\n",
    "MENTEE_DATA = './data/mentee.csv'\n",
    "\n",
    "def load_data(file_path):\n",
    "    try:\n",
    "        return pd.read_csv(file_path)\n",
    "    except Exception as e:\n",
    "        logging.error(f\"Error loading {file_path}: {e}\")\n",
    "        return None\n",
    "\n",
    "mentee_df = load_data(MENTEE_DATA)\n",
    "mentor_df = load_data(MENTOR_DATA)\n",
    "\n",
    "if mentee_df is None or mentor_df is None:\n",
    "    raise ValueError(\"Error loading data files.\")\n",
    "\n",
    "logging.info(\"Files loaded successfully\")\n",
    "logging.info(f\"Columns in mentee.csv:\\n{mentee_df.columns}\")\n",
    "logging.info(f\"Columns in mentor.csv:\\n{mentor_df.columns}\")"
   ]
  },
  {
   "cell_type": "code",
   "execution_count": 100,
   "metadata": {},
   "outputs": [
    {
     "name": "stdout",
     "output_type": "stream",
     "text": [
      "Reading data successfull\n"
     ]
    }
   ],
   "source": [
    "# Reading data from the loaded files\n",
    "\n",
    "mentee_df = pd.read_csv(MENTEE_DATA)\n",
    "mentor_df = pd.read_csv(MENTOR_DATA)\n",
    "\n",
    "mentees = mentee_df.columns\n",
    "mentors = mentor_df.columns\n",
    "\n",
    "print(\"Reading data successfull\")"
   ]
  },
  {
   "cell_type": "code",
   "execution_count": 101,
   "metadata": {},
   "outputs": [
    {
     "name": "stdout",
     "output_type": "stream",
     "text": [
      "Columns in mentee.csv:\n",
      " Index(['Timestamp', 'First Name', 'Last Name', 'Phone Number', 'Email',\n",
      "       'Year of Birth', 'Gender', 'Are you a person with Disability?',\n",
      "       'County of Residence',\n",
      "       'Sub County of Residence (Sub Counties in Mombasa)',\n",
      "       'Ward of Residence', 'Highest level of education completed',\n",
      "       'Are you employed', 'Are you running a business',\n",
      "       'What's your area of interest?',\n",
      "       'If you selected other, please elaborate (If not, respond with N/A)',\n",
      "       'Who referred you? (Your Case Manager/Mentor)',\n",
      "       'What are your Strengths', 'Mode of Mentorship',\n",
      "       'Preferred Gender of your mentor', 'What are your weaknesses',\n",
      "       'What are your career Goals',\n",
      "       'What skills would you like to be mentored?',\n",
      "       'What are your financial goals', 'Upload your resume if available'],\n",
      "      dtype='object')\n",
      "\n",
      "\n",
      "Columns in mentor.csv:\n",
      " Index(['Timestamp', 'First Name', 'Last Name', 'Gender', 'Year of Birth',\n",
      "       'Are you a person with disability', 'Email Address', 'Phone Number',\n",
      "       'What is your nationality?', 'Residence County', 'Residence Sub-County',\n",
      "       'Residence Ward', 'Please list you core values',\n",
      "       'Your free time activities',\n",
      "       'What are some of the personal challenges you go through',\n",
      "       'What are your strengths', 'What are your weaknesses',\n",
      "       'Preferred mode of mentorship ', 'Your religion', 'Cultural Influences',\n",
      "       'Mentee Demographics Preference', 'Latest educational qualification',\n",
      "       'Certifications', 'Current Job Title', 'Company',\n",
      "       'Your area of expertise', 'What are your career goals',\n",
      "       'What skills would you like to mentor', 'What are your financial goals',\n",
      "       'Upload your resume if available', 'LinkedIn URL',\n",
      "       'X (Formerly Twitter URL)'],\n",
      "      dtype='object')\n"
     ]
    }
   ],
   "source": [
    "print(\"Columns in mentee.csv:\\n\", mentees)\n",
    "print(\"\\n\\nColumns in mentor.csv:\\n\", mentors)"
   ]
  },
  {
   "cell_type": "code",
   "execution_count": 102,
   "metadata": {},
   "outputs": [],
   "source": [
    "# Extract unique sub-counties and ensure they are strings\n",
    "mentee_sub_counties = mentee_df['Sub County of Residence (Sub Counties in Mombasa)'].dropna().astype(str).unique()\n",
    "mentor_sub_counties = mentor_df['Residence Sub-County'].dropna().astype(str).unique()"
   ]
  },
  {
   "cell_type": "code",
   "execution_count": 103,
   "metadata": {},
   "outputs": [],
   "source": [
    "# Geocode sub-counties\n",
    "def geocode_sub_county(sub_county):\n",
    "    geocode_result = gmaps.geocode(sub_county + ', Mombasa, Kenya')\n",
    "    if geocode_result:\n",
    "        location = geocode_result[0]['geometry']['location']\n",
    "        return (location['lat'], location['lng'])\n",
    "    return None"
   ]
  },
  {
   "cell_type": "code",
   "execution_count": 104,
   "metadata": {},
   "outputs": [],
   "source": [
    "# Extract unique sub-counties and ensure they are strings\n",
    "mentee_sub_counties = mentee_df['Sub County of Residence (Sub Counties in Mombasa)'].dropna().astype(str).unique()\n",
    "mentor_sub_counties = mentor_df['Residence Sub-County'].dropna().astype(str).unique()\n",
    "\n",
    "def geocode_sub_county(sub_county):\n",
    "    try:\n",
    "        geocode_result = gmaps.geocode(f\"{sub_county}, Mombasa, Kenya\")\n",
    "        if geocode_result:\n",
    "            location = geocode_result[0]['geometry']['location']\n",
    "            return (location['lat'], location['lng'])\n",
    "    except Exception as e:\n",
    "        logging.error(f\"Geocoding error for {sub_county}: {e}\")\n",
    "    return None\n",
    "\n",
    "mentee_coords = {sub_county: geocode_sub_county(sub_county) for sub_county in mentee_sub_counties}\n",
    "mentor_coords = {sub_county: geocode_sub_county(sub_county) for sub_county in mentor_sub_counties}"
   ]
  },
  {
   "cell_type": "code",
   "execution_count": 105,
   "metadata": {},
   "outputs": [
    {
     "name": "stderr",
     "output_type": "stream",
     "text": [
      "INFO: Distance files already exist.\n"
     ]
    }
   ],
   "source": [
    "# Check if the files already exist\n",
    "csv_file_path = './data/distances.csv'\n",
    "json_file_path = './data/distances.json'\n",
    "\n",
    "if not os.path.exists(csv_file_path) or not os.path.exists(json_file_path):\n",
    "    distances = []\n",
    "    for (mentee_sub, mentee_coord), (mentor_sub, mentor_coord) in product(mentee_coords.items(), mentor_coords.items()):\n",
    "        if mentee_coord and mentor_coord:\n",
    "            try:\n",
    "                distance_result = gmaps.distance_matrix(mentee_coord, mentor_coord, mode='driving')\n",
    "                if distance_result['rows'][0]['elements'][0]['status'] == 'OK':\n",
    "                    distance = distance_result['rows'][0]['elements'][0]['distance']['value']\n",
    "                    distances.append({\n",
    "                        'Mentee Sub-County': mentee_sub,\n",
    "                        'Mentor Sub-County': mentor_sub,\n",
    "                        'Distance (meters)': distance\n",
    "                    })\n",
    "            except Exception as e:\n",
    "                logging.error(f\"Distance matrix error for {mentee_coord} to {mentor_coord}: {e}\")\n",
    "\n",
    "    distances_df = pd.DataFrame(distances)\n",
    "    distances_df.to_csv(csv_file_path, index=False)\n",
    "    distances_df.to_json(json_file_path, orient='records', indent=4)\n",
    "    logging.info(\"Completed getting distances between sub-counties\")\n",
    "else:\n",
    "    logging.info(\"Distance files already exist.\")"
   ]
  },
  {
   "cell_type": "code",
   "execution_count": 106,
   "metadata": {},
   "outputs": [],
   "source": [
    "# Load precomputed distances\n",
    "with open(json_file_path, 'r') as f:\n",
    "    distances = json.load(f)\n",
    "    \n",
    "    \n",
    "# Convert distances to DataFrame\n",
    "distances_df = pd.DataFrame(distances)"
   ]
  },
  {
   "cell_type": "code",
   "execution_count": 107,
   "metadata": {},
   "outputs": [],
   "source": [
    "# Filter out distances greater than 15 km\n",
    "max_distance_meters = 15000  # 15 km in meters\n",
    "distances_df = distances_df[distances_df['Distance (meters)'] <= max_distance_meters]\n",
    "\n",
    "# Normalize distance for match score calculation\n",
    "distances_df['Distance Score'] = 1 - (distances_df['Distance (meters)'] / max_distance_meters)  # Closer distance gets higher score"
   ]
  },
  {
   "cell_type": "code",
   "execution_count": 108,
   "metadata": {},
   "outputs": [],
   "source": [
    "# Define a function to calculate the match score\n",
    "def calculate_match_score(mentee, mentor, distance_score):\n",
    "    score = 0\n",
    "    if mentee['Preferred Gender of your mentor'] == mentor['Gender']:\n",
    "        score += 20\n",
    "    if isinstance(mentee['What\\'s your area of interest?'], str) and isinstance(mentor['Your area of expertise'], str):\n",
    "        if mentee['What\\'s your area of interest?'] in mentor['Your area of expertise']:\n",
    "            score += 30\n",
    "    \n",
    "    mentee_strengths = mentee['What are your Strengths']\n",
    "    mentor_strengths = mentor['What are your strengths']\n",
    "    if isinstance(mentee_strengths, str) and isinstance(mentor_strengths, str):\n",
    "        if any(strength in mentor_strengths for strength in mentee_strengths.split(',')):\n",
    "            score += 20\n",
    "    \n",
    "    mentee_weaknesses = mentee['What are your weaknesses']\n",
    "    mentor_weaknesses = mentor['What are your weaknesses']\n",
    "    if isinstance(mentee_weaknesses, str) and isinstance(mentor_weaknesses, str):\n",
    "        if any(weakness in mentor_weaknesses for weakness in mentee_weaknesses.split(',')):\n",
    "            score += 10\n",
    "    \n",
    "    score += distance_score * 20  # Closer distance gets higher score\n",
    "    return score"
   ]
  },
  {
   "cell_type": "code",
   "execution_count": 109,
   "metadata": {},
   "outputs": [],
   "source": [
    "# Calculate match scores for all possible mentor-mentee pairs\n",
    "all_matches = []\n",
    "\n",
    "for mentee_index, mentee_row in mentee_df.iterrows():\n",
    "    for mentor_index, mentor_row in mentor_df.iterrows():\n",
    "        distance_row = distances_df[(distances_df['Mentee Sub-County'] == mentee_row['Sub County of Residence (Sub Counties in Mombasa)']) &\n",
    "                                    (distances_df['Mentor Sub-County'] == mentor_row['Residence Sub-County'])]\n",
    "        if not distance_row.empty:\n",
    "            distance_score = distance_row['Distance Score'].values[0]\n",
    "            match_score = calculate_match_score(mentee_row, mentor_row, distance_score)\n",
    "            all_matches.append({\n",
    "                'Mentee Index': mentee_index,\n",
    "                'Mentor Index': mentor_index,\n",
    "                'Mentee Name': f\"{mentee_row['First Name']} {mentee_row['Last Name']}\",\n",
    "                'Mentor Name': f\"{mentor_row['First Name']} {mentor_row['Last Name']}\",\n",
    "                'Match Score': match_score\n",
    "            })"
   ]
  },
  {
   "cell_type": "code",
   "execution_count": 110,
   "metadata": {},
   "outputs": [],
   "source": [
    "# Convert all matches to DataFrame and sort by Match Score\n",
    "all_matches_df = pd.DataFrame(all_matches).sort_values(by='Match Score', ascending=False)\n",
    "\n",
    "# Save the DataFrame to CSV and JSON files\n",
    "all_matches_df.to_csv('./data/all_matches.csv', index=False)\n",
    "all_matches_df.to_json('./data/all_matches.json', orient='records', indent=4)"
   ]
  },
  {
   "cell_type": "code",
   "execution_count": 111,
   "metadata": {},
   "outputs": [
    {
     "name": "stdout",
     "output_type": "stream",
     "text": [
      "        Mentee Index  Mentor Index      Mentee Name     Mentor Name  \\\n",
      "261168          3354            75  Said Mwakatsumi   Lucas Mwicigi   \n",
      "252509          3243            47   David Mwambewa  Susan  Otieno    \n",
      "257221          3304            36    Lewis  Irungu    Rukia  Omar    \n",
      "259466          3332            75       Asha  Jama   Lucas Mwicigi   \n",
      "265982          3416            75  Charity  Mbiti    Lucas Mwicigi   \n",
      "...              ...           ...              ...             ...   \n",
      "34014            443            58         Ali Fauz  Walter Ochieng   \n",
      "34031            443            75         Ali Fauz   Lucas Mwicigi   \n",
      "34032            443            76         Ali Fauz     Rohan Mutua   \n",
      "34075            444            40     Mohammed Ali      Hamisi Ali   \n",
      "28031            367            49      Birya Fondo   Lucas Mwicigi   \n",
      "\n",
      "        Match Score  \n",
      "261168    76.386667  \n",
      "252509    70.000000  \n",
      "257221    70.000000  \n",
      "259466    70.000000  \n",
      "265982    70.000000  \n",
      "...             ...  \n",
      "34014      0.074667  \n",
      "34031      0.074667  \n",
      "34032      0.074667  \n",
      "34075      0.074667  \n",
      "28031      0.074667  \n",
      "\n",
      "[267805 rows x 5 columns]\n"
     ]
    }
   ],
   "source": [
    "# Display DataFrame\n",
    "print(all_matches_df)"
   ]
  }
 ],
 "metadata": {
  "kernelspec": {
   "display_name": "matching-env",
   "language": "python",
   "name": "python3"
  },
  "language_info": {
   "codemirror_mode": {
    "name": "ipython",
    "version": 3
   },
   "file_extension": ".py",
   "mimetype": "text/x-python",
   "name": "python",
   "nbconvert_exporter": "python",
   "pygments_lexer": "ipython3",
   "version": "3.11.4"
  }
 },
 "nbformat": 4,
 "nbformat_minor": 2
}
